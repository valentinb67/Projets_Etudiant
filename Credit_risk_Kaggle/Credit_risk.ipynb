{
 "cells": [
  {
   "cell_type": "code",
   "execution_count": 4,
   "metadata": {},
   "outputs": [],
   "source": [
    "import pandas as pd\n",
    "import numpy as np\n",
    "import seaborn as sns\n",
    "import matplotlib.pyplot as plt"

import pandas as pd
import numpy as np
import matplotlib.pyplot as plt

# Sample DataFrame creation
data = {
    'Date': pd.date_range(start='2023-01-01', periods=180, freq='D'),
    'Date_YYYY_MM': pd.date_range(start='2023-01-01', periods=180, freq='D').to_period('M').astype(str),
    'Taux': np.random.uniform(1.0, 5.0, 180),
}
df = pd.DataFrame(data)
df['Taux_moyen_mensuel'] = df.groupby('Date_YYYY_MM')['Taux'].transform('mean')
df['Ecart_a_la_moyenne_mensuelle'] = df['Taux'] - df['Taux_moyen_mensuel']

# Display DataFrame to the user
import ace_tools as tools; tools.display_dataframe_to_user(name="DataFrame des taux de prêts habitats", dataframe=df)

# Plot 1: Taux appliqué par date
plt.figure(figsize=(14, 7))
plt.plot(df['Date'], df['Taux'], label='Taux appliqué', color='b')
plt.title('Évolution des taux appliqués sur six mois')
plt.xlabel('Date')
plt.ylabel('Taux appliqué')
plt.legend()
plt.grid(True)
plt.show()

# Plot 2: Taux moyen mensuel
monthly_avg = df.groupby('Date_YYYY_MM')['Taux_moyen_mensuel'].mean()
plt.figure(figsize=(14, 7))
monthly_avg.plot(kind='bar', color='orange')
plt.title('Taux moyen mensuel')
plt.xlabel('Mois')
plt.ylabel('Taux moyen')
plt.xticks(rotation=45)
plt.grid(True)
plt.show()

# Plot 3: Écart à la moyenne mensuelle
plt.figure(figsize=(14, 7))
plt.plot(df['Date'], df['Ecart_a_la_moyenne_mensuelle'], label='Écart à la moyenne mensuelle', color='r')
plt.title('Écart à la moyenne mensuelle des taux appliqués')
plt.xlabel('Date')
plt.ylabel('Écart à la moyenne')
plt.legend()
plt.grid(True)
plt.show()

# Correcting the error and plotting the combined graph again
fig, ax1 = plt.subplots(figsize=(14, 7))

# Taux moyen mensuel
color = 'tab:blue'
ax1.set_xlabel('Mois')
ax1.set_ylabel('Taux moyen mensuel', color=color)
monthly_avg.plot(kind='bar', ax=ax1, color=color, position=1, width=0.4)
ax1.tick_params(axis='y', labelcolor=color)
ax1.set_xticklabels(monthly_avg.index, rotation=45)

# Écart à la moyenne mensuelle
ax2 = ax1.twinx()  # instantiate a second axes that shares the same x-axis
color = 'tab:red'
ax2.set_ylabel('Écart à la moyenne mensuelle', color=color)
monthly_deviation = df.groupby('Date_YYYY_MM')['Ecart_a_la_moyenne_mensuelle'].mean()
ax2.plot(monthly_deviation.index, monthly_deviation.values, color=color)
ax2.tick_params(axis='y', labelcolor=color)

fig.tight_layout()  # to ensure the right y-label is not slightly clipped
plt.title('Taux moyen mensuel et Écart à la moyenne mensuelle')
plt.grid(True)
plt.show()

   ]
  },
  {
   "cell_type": "code",
   "execution_count": 5,
   "metadata": {},
   "outputs": [
    {
     "data": {
      "text/html": [
       "<div>\n",
       "<style scoped>\n",
       "    .dataframe tbody tr th:only-of-type {\n",
       "        vertical-align: middle;\n",
       "    }\n",
       "\n",
       "    .dataframe tbody tr th {\n",
       "        vertical-align: top;\n",
       "    }\n",
       "\n",
       "    .dataframe thead th {\n",
       "        text-align: right;\n",
       "    }\n",
       "</style>\n",
       "<table border=\"1\" class=\"dataframe\">\n",
       "  <thead>\n",
       "    <tr style=\"text-align: right;\">\n",
       "      <th></th>\n",
       "      <th>person_age</th>\n",
       "      <th>person_income</th>\n",
       "      <th>person_home_ownership</th>\n",
       "      <th>person_emp_length</th>\n",
       "      <th>loan_intent</th>\n",
       "      <th>loan_grade</th>\n",
       "      <th>loan_amnt</th>\n",
       "      <th>loan_int_rate</th>\n",
       "      <th>loan_status</th>\n",
       "      <th>loan_percent_income</th>\n",
       "      <th>cb_person_default_on_file</th>\n",
       "      <th>cb_person_cred_hist_length</th>\n",
       "    </tr>\n",
       "  </thead>\n",
       "  <tbody>\n",
       "    <tr>\n",
       "      <th>0</th>\n",
       "      <td>22</td>\n",
       "      <td>59000</td>\n",
       "      <td>RENT</td>\n",
       "      <td>123.0</td>\n",
       "      <td>PERSONAL</td>\n",
       "      <td>D</td>\n",
       "      <td>35000</td>\n",
       "      <td>16.02</td>\n",
       "      <td>1</td>\n",
       "      <td>0.59</td>\n",
       "      <td>Y</td>\n",
       "      <td>3</td>\n",
       "    </tr>\n",
       "    <tr>\n",
       "      <th>1</th>\n",
       "      <td>21</td>\n",
       "      <td>9600</td>\n",
       "      <td>OWN</td>\n",
       "      <td>5.0</td>\n",
       "      <td>EDUCATION</td>\n",
       "      <td>B</td>\n",
       "      <td>1000</td>\n",
       "      <td>11.14</td>\n",
       "      <td>0</td>\n",
       "      <td>0.10</td>\n",
       "      <td>N</td>\n",
       "      <td>2</td>\n",
       "    </tr>\n",
       "    <tr>\n",
       "      <th>2</th>\n",
       "      <td>25</td>\n",
       "      <td>9600</td>\n",
       "      <td>MORTGAGE</td>\n",
       "      <td>1.0</td>\n",
       "      <td>MEDICAL</td>\n",
       "      <td>C</td>\n",
       "      <td>5500</td>\n",
       "      <td>12.87</td>\n",
       "      <td>1</td>\n",
       "      <td>0.57</td>\n",
       "      <td>N</td>\n",
       "      <td>3</td>\n",
       "    </tr>\n",
       "    <tr>\n",
       "      <th>3</th>\n",
       "      <td>23</td>\n",
       "      <td>65500</td>\n",
       "      <td>RENT</td>\n",
       "      <td>4.0</td>\n",
       "      <td>MEDICAL</td>\n",
       "      <td>C</td>\n",
       "      <td>35000</td>\n",
       "      <td>15.23</td>\n",
       "      <td>1</td>\n",
       "      <td>0.53</td>\n",
       "      <td>N</td>\n",
       "      <td>2</td>\n",
       "    </tr>\n",
       "    <tr>\n",
       "      <th>4</th>\n",
       "      <td>24</td>\n",
       "      <td>54400</td>\n",
       "      <td>RENT</td>\n",
       "      <td>8.0</td>\n",
       "      <td>MEDICAL</td>\n",
       "      <td>C</td>\n",
       "      <td>35000</td>\n",
       "      <td>14.27</td>\n",
       "      <td>1</td>\n",
       "      <td>0.55</td>\n",
       "      <td>Y</td>\n",
       "      <td>4</td>\n",
       "    </tr>\n",
       "    <tr>\n",
       "      <th>...</th>\n",
       "      <td>...</td>\n",
       "      <td>...</td>\n",
       "      <td>...</td>\n",
       "      <td>...</td>\n",
       "      <td>...</td>\n",
       "      <td>...</td>\n",
       "      <td>...</td>\n",
       "      <td>...</td>\n",
       "      <td>...</td>\n",
       "      <td>...</td>\n",
       "      <td>...</td>\n",
       "      <td>...</td>\n",
       "    </tr>\n",
       "    <tr>\n",
       "      <th>32576</th>\n",
       "      <td>57</td>\n",
       "      <td>53000</td>\n",
       "      <td>MORTGAGE</td>\n",
       "      <td>1.0</td>\n",
       "      <td>PERSONAL</td>\n",
       "      <td>C</td>\n",
       "      <td>5800</td>\n",
       "      <td>13.16</td>\n",
       "      <td>0</td>\n",
       "      <td>0.11</td>\n",
       "      <td>N</td>\n",
       "      <td>30</td>\n",
       "    </tr>\n",
       "    <tr>\n",
       "      <th>32577</th>\n",
       "      <td>54</td>\n",
       "      <td>120000</td>\n",
       "      <td>MORTGAGE</td>\n",
       "      <td>4.0</td>\n",
       "      <td>PERSONAL</td>\n",
       "      <td>A</td>\n",
       "      <td>17625</td>\n",
       "      <td>7.49</td>\n",
       "      <td>0</td>\n",
       "      <td>0.15</td>\n",
       "      <td>N</td>\n",
       "      <td>19</td>\n",
       "    </tr>\n",
       "    <tr>\n",
       "      <th>32578</th>\n",
       "      <td>65</td>\n",
       "      <td>76000</td>\n",
       "      <td>RENT</td>\n",
       "      <td>3.0</td>\n",
       "      <td>HOMEIMPROVEMENT</td>\n",
       "      <td>B</td>\n",
       "      <td>35000</td>\n",
       "      <td>10.99</td>\n",
       "      <td>1</td>\n",
       "      <td>0.46</td>\n",
       "      <td>N</td>\n",
       "      <td>28</td>\n",
       "    </tr>\n",
       "    <tr>\n",
       "      <th>32579</th>\n",
       "      <td>56</td>\n",
       "      <td>150000</td>\n",
       "      <td>MORTGAGE</td>\n",
       "      <td>5.0</td>\n",
       "      <td>PERSONAL</td>\n",
       "      <td>B</td>\n",
       "      <td>15000</td>\n",
       "      <td>11.48</td>\n",
       "      <td>0</td>\n",
       "      <td>0.10</td>\n",
       "      <td>N</td>\n",
       "      <td>26</td>\n",
       "    </tr>\n",
       "    <tr>\n",
       "      <th>32580</th>\n",
       "      <td>66</td>\n",
       "      <td>42000</td>\n",
       "      <td>RENT</td>\n",
       "      <td>2.0</td>\n",
       "      <td>MEDICAL</td>\n",
       "      <td>B</td>\n",
       "      <td>6475</td>\n",
       "      <td>9.99</td>\n",
       "      <td>0</td>\n",
       "      <td>0.15</td>\n",
       "      <td>N</td>\n",
       "      <td>30</td>\n",
       "    </tr>\n",
       "  </tbody>\n",
       "</table>\n",
       "<p>32581 rows × 12 columns</p>\n",
       "</div>"
      ],
      "text/plain": [
       "       person_age  person_income person_home_ownership  person_emp_length  \\\n",
       "0              22          59000                  RENT              123.0   \n",
       "1              21           9600                   OWN                5.0   \n",
       "2              25           9600              MORTGAGE                1.0   \n",
       "3              23          65500                  RENT                4.0   \n",
       "4              24          54400                  RENT                8.0   \n",
       "...           ...            ...                   ...                ...   \n",
       "32576          57          53000              MORTGAGE                1.0   \n",
       "32577          54         120000              MORTGAGE                4.0   \n",
       "32578          65          76000                  RENT                3.0   \n",
       "32579          56         150000              MORTGAGE                5.0   \n",
       "32580          66          42000                  RENT                2.0   \n",
       "\n",
       "           loan_intent loan_grade  loan_amnt  loan_int_rate  loan_status  \\\n",
       "0             PERSONAL          D      35000          16.02            1   \n",
       "1            EDUCATION          B       1000          11.14            0   \n",
       "2              MEDICAL          C       5500          12.87            1   \n",
       "3              MEDICAL          C      35000          15.23            1   \n",
       "4              MEDICAL          C      35000          14.27            1   \n",
       "...                ...        ...        ...            ...          ...   \n",
       "32576         PERSONAL          C       5800          13.16            0   \n",
       "32577         PERSONAL          A      17625           7.49            0   \n",
       "32578  HOMEIMPROVEMENT          B      35000          10.99            1   \n",
       "32579         PERSONAL          B      15000          11.48            0   \n",
       "32580          MEDICAL          B       6475           9.99            0   \n",
       "\n",
       "       loan_percent_income cb_person_default_on_file  \\\n",
       "0                     0.59                         Y   \n",
       "1                     0.10                         N   \n",
       "2                     0.57                         N   \n",
       "3                     0.53                         N   \n",
       "4                     0.55                         Y   \n",
       "...                    ...                       ...   \n",
       "32576                 0.11                         N   \n",
       "32577                 0.15                         N   \n",
       "32578                 0.46                         N   \n",
       "32579                 0.10                         N   \n",
       "32580                 0.15                         N   \n",
       "\n",
       "       cb_person_cred_hist_length  \n",
       "0                               3  \n",
       "1                               2  \n",
       "2                               3  \n",
       "3                               2  \n",
       "4                               4  \n",
       "...                           ...  \n",
       "32576                          30  \n",
       "32577                          19  \n",
       "32578                          28  \n",
       "32579                          26  \n",
       "32580                          30  \n",
       "\n",
       "[32581 rows x 12 columns]"
      ]
     },
     "execution_count": 5,
     "metadata": {},
     "output_type": "execute_result"
    }
   ],
   "source": [
    "df = pd.read_csv('credit_risk_dataset.csv')\n",
    "df"
   ]
  },
  {
   "cell_type": "code",
   "execution_count": 6,
   "metadata": {},
   "outputs": [],
   "source": [
    "vars = ['person_age', 'person_income', 'person_home_ownership', 'person_emp_length', 'loan_intent', 'loan_grade', 'loan_amnt', 'loan_int_rate', 'loan_status', 'loan_percent_income', 'cb_person_cred_hist_length']\n",
    "\n",
    "#for var in vars:\n",
    "#    sns.countplot(x = df[var],hue=df['cb_person_default_on_file'])\n",
    "#    plt.title('cb_person_default_on_file for {var}')\n",
    "#    plt.show()"
   ]
  },
  {
   "cell_type": "code",
   "execution_count": 7,
   "metadata": {},
   "outputs": [],
   "source": [
    "#for var in vars:\n",
    "#    ratios = df.groupby(var)['cb_person_default_on_file'].value_counts(normalize=True).unstack()\n",
    "#    print(ratios)"
   ]
  },
  {
   "cell_type": "code",
   "execution_count": 8,
   "metadata": {},
   "outputs": [
    {
     "data": {
      "image/png": "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",
      "text/plain": [
       "<Figure size 640x480 with 1 Axes>"
      ]
     },
     "metadata": {},
     "output_type": "display_data"
    },
    {
     "name": "stdout",
     "output_type": "stream",
     "text": [
      "cb_person_default_on_file         N         Y\n",
      "person_home_ownership                        \n",
      "MORTGAGE                   0.851681  0.148319\n",
      "OWN                        0.828173  0.171827\n",
      "RENT                       0.800681  0.199319\n",
      "OTHER                      0.728972  0.271028\n"
     ]
    }
   ],
   "source": [
    "sns.countplot(x = df['person_home_ownership'],hue=df['cb_person_default_on_file'],palette='inferno')\n",
    "plt.title('cb_person_default_on_file')\n",
    "plt.show()\n",
    "ratios = df.groupby('person_home_ownership')['cb_person_default_on_file'].value_counts(normalize=True).unstack().sort_values(by='Y', ascending=True)\n",
    "print(ratios)"
   ]
  },
  {
   "cell_type": "code",
   "execution_count": 9,
   "metadata": {},
   "outputs": [],
   "source": [
    "ownership_mapping = {'OTHER': 3, 'RENT': 2, 'OWN': 1, 'MORTGAGE': 0}\n",
    "intent_mapping = {'EDUCATION': 5,'VENTURE': 4, 'PERSONAL': 3, 'MEDICAL': 2, 'DEBTCONSOLIDATION': 1, 'HOMEIMPROVEMENT': 0}\n",
    "grade_mapping = {'G': 6, 'F': 5, 'E': 4, 'D': 3, 'C': 2, 'B': 1, 'A': 0}"
   ]
  },
  {
   "cell_type": "code",
   "execution_count": 10,
   "metadata": {},
   "outputs": [],
   "source": [
    "df['person_home_ownership'] = df['person_home_ownership'].map(ownership_mapping)\n",
    "df['loan_intent'] = df['loan_intent'].map(intent_mapping)\n",
    "df['loan_grade'] = df['loan_grade'].map(grade_mapping)\n",
    "\n",
    "\n",
    "df['cb_person_default_on_file'] = df['cb_person_default_on_file'].apply(\n",
    "    lambda x: 1 if x=='Y' else 0\n",
    ")"
   ]
  },
  {
   "cell_type": "code",
   "execution_count": 11,
   "metadata": {},
   "outputs": [
    {
     "data": {
      "text/html": [
       "<div>\n",
       "<style scoped>\n",
       "    .dataframe tbody tr th:only-of-type {\n",
       "        vertical-align: middle;\n",
       "    }\n",
       "\n",
       "    .dataframe tbody tr th {\n",
       "        vertical-align: top;\n",
       "    }\n",
       "\n",
       "    .dataframe thead th {\n",
       "        text-align: right;\n",
       "    }\n",
       "</style>\n",
       "<table border=\"1\" class=\"dataframe\">\n",
       "  <thead>\n",
       "    <tr style=\"text-align: right;\">\n",
       "      <th></th>\n",
       "      <th>person_age</th>\n",
       "      <th>person_income</th>\n",
       "      <th>person_home_ownership</th>\n",
       "      <th>person_emp_length</th>\n",
       "      <th>loan_intent</th>\n",
       "      <th>loan_grade</th>\n",
       "      <th>loan_amnt</th>\n",
       "      <th>loan_int_rate</th>\n",
       "      <th>loan_status</th>\n",
       "      <th>loan_percent_income</th>\n",
       "      <th>cb_person_default_on_file</th>\n",
       "      <th>cb_person_cred_hist_length</th>\n",
       "    </tr>\n",
       "  </thead>\n",
       "  <tbody>\n",
       "    <tr>\n",
       "      <th>person_age</th>\n",
       "      <td>1.000000</td>\n",
       "      <td>0.173202</td>\n",
       "      <td>-0.033379</td>\n",
       "      <td>0.163106</td>\n",
       "      <td>-0.089184</td>\n",
       "      <td>0.014218</td>\n",
       "      <td>0.050787</td>\n",
       "      <td>0.012580</td>\n",
       "      <td>-0.021629</td>\n",
       "      <td>-0.042411</td>\n",
       "      <td>0.005807</td>\n",
       "      <td>0.859133</td>\n",
       "    </tr>\n",
       "    <tr>\n",
       "      <th>person_income</th>\n",
       "      <td>0.173202</td>\n",
       "      <td>1.000000</td>\n",
       "      <td>-0.197299</td>\n",
       "      <td>0.134268</td>\n",
       "      <td>-0.024044</td>\n",
       "      <td>-0.001022</td>\n",
       "      <td>0.266820</td>\n",
       "      <td>0.000792</td>\n",
       "      <td>-0.144449</td>\n",
       "      <td>-0.254471</td>\n",
       "      <td>-0.003613</td>\n",
       "      <td>0.117987</td>\n",
       "    </tr>\n",
       "    <tr>\n",
       "      <th>person_home_ownership</th>\n",
       "      <td>-0.033379</td>\n",
       "      <td>-0.197299</td>\n",
       "      <td>1.000000</td>\n",
       "      <td>-0.235264</td>\n",
       "      <td>0.018104</td>\n",
       "      <td>0.124048</td>\n",
       "      <td>-0.125891</td>\n",
       "      <td>0.143594</td>\n",
       "      <td>0.221992</td>\n",
       "      <td>0.138344</td>\n",
       "      <td>0.065039</td>\n",
       "      <td>-0.026798</td>\n",
       "    </tr>\n",
       "    <tr>\n",
       "      <th>person_emp_length</th>\n",
       "      <td>0.163106</td>\n",
       "      <td>0.134268</td>\n",
       "      <td>-0.235264</td>\n",
       "      <td>1.000000</td>\n",
       "      <td>-0.031255</td>\n",
       "      <td>-0.047276</td>\n",
       "      <td>0.113082</td>\n",
       "      <td>-0.056405</td>\n",
       "      <td>-0.082489</td>\n",
       "      <td>-0.054111</td>\n",
       "      <td>-0.027728</td>\n",
       "      <td>0.144699</td>\n",
       "    </tr>\n",
       "    <tr>\n",
       "      <th>loan_intent</th>\n",
       "      <td>-0.089184</td>\n",
       "      <td>-0.024044</td>\n",
       "      <td>0.018104</td>\n",
       "      <td>-0.031255</td>\n",
       "      <td>1.000000</td>\n",
       "      <td>-0.024163</td>\n",
       "      <td>-0.022979</td>\n",
       "      <td>-0.018476</td>\n",
       "      <td>-0.110887</td>\n",
       "      <td>0.005001</td>\n",
       "      <td>-0.014291</td>\n",
       "      <td>-0.073557</td>\n",
       "    </tr>\n",
       "    <tr>\n",
       "      <th>loan_grade</th>\n",
       "      <td>0.014218</td>\n",
       "      <td>-0.001022</td>\n",
       "      <td>0.124048</td>\n",
       "      <td>-0.047276</td>\n",
       "      <td>-0.024163</td>\n",
       "      <td>1.000000</td>\n",
       "      <td>0.145799</td>\n",
       "      <td>0.933684</td>\n",
       "      <td>0.373080</td>\n",
       "      <td>0.123021</td>\n",
       "      <td>0.537054</td>\n",
       "      <td>0.015069</td>\n",
       "    </tr>\n",
       "    <tr>\n",
       "      <th>loan_amnt</th>\n",
       "      <td>0.050787</td>\n",
       "      <td>0.266820</td>\n",
       "      <td>-0.125891</td>\n",
       "      <td>0.113082</td>\n",
       "      <td>-0.022979</td>\n",
       "      <td>0.145799</td>\n",
       "      <td>1.000000</td>\n",
       "      <td>0.146813</td>\n",
       "      <td>0.105376</td>\n",
       "      <td>0.572612</td>\n",
       "      <td>0.039081</td>\n",
       "      <td>0.041967</td>\n",
       "    </tr>\n",
       "    <tr>\n",
       "      <th>loan_int_rate</th>\n",
       "      <td>0.012580</td>\n",
       "      <td>0.000792</td>\n",
       "      <td>0.143594</td>\n",
       "      <td>-0.056405</td>\n",
       "      <td>-0.018476</td>\n",
       "      <td>0.933684</td>\n",
       "      <td>0.146813</td>\n",
       "      <td>1.000000</td>\n",
       "      <td>0.335133</td>\n",
       "      <td>0.120314</td>\n",
       "      <td>0.501072</td>\n",
       "      <td>0.016696</td>\n",
       "    </tr>\n",
       "    <tr>\n",
       "      <th>loan_status</th>\n",
       "      <td>-0.021629</td>\n",
       "      <td>-0.144449</td>\n",
       "      <td>0.221992</td>\n",
       "      <td>-0.082489</td>\n",
       "      <td>-0.110887</td>\n",
       "      <td>0.373080</td>\n",
       "      <td>0.105376</td>\n",
       "      <td>0.335133</td>\n",
       "      <td>1.000000</td>\n",
       "      <td>0.379366</td>\n",
       "      <td>0.179141</td>\n",
       "      <td>-0.015529</td>\n",
       "    </tr>\n",
       "    <tr>\n",
       "      <th>loan_percent_income</th>\n",
       "      <td>-0.042411</td>\n",
       "      <td>-0.254471</td>\n",
       "      <td>0.138344</td>\n",
       "      <td>-0.054111</td>\n",
       "      <td>0.005001</td>\n",
       "      <td>0.123021</td>\n",
       "      <td>0.572612</td>\n",
       "      <td>0.120314</td>\n",
       "      <td>0.379366</td>\n",
       "      <td>1.000000</td>\n",
       "      <td>0.035910</td>\n",
       "      <td>-0.031690</td>\n",
       "    </tr>\n",
       "    <tr>\n",
       "      <th>cb_person_default_on_file</th>\n",
       "      <td>0.005807</td>\n",
       "      <td>-0.003613</td>\n",
       "      <td>0.065039</td>\n",
       "      <td>-0.027728</td>\n",
       "      <td>-0.014291</td>\n",
       "      <td>0.537054</td>\n",
       "      <td>0.039081</td>\n",
       "      <td>0.501072</td>\n",
       "      <td>0.179141</td>\n",
       "      <td>0.035910</td>\n",
       "      <td>1.000000</td>\n",
       "      <td>0.004564</td>\n",
       "    </tr>\n",
       "    <tr>\n",
       "      <th>cb_person_cred_hist_length</th>\n",
       "      <td>0.859133</td>\n",
       "      <td>0.117987</td>\n",
       "      <td>-0.026798</td>\n",
       "      <td>0.144699</td>\n",
       "      <td>-0.073557</td>\n",
       "      <td>0.015069</td>\n",
       "      <td>0.041967</td>\n",
       "      <td>0.016696</td>\n",
       "      <td>-0.015529</td>\n",
       "      <td>-0.031690</td>\n",
       "      <td>0.004564</td>\n",
       "      <td>1.000000</td>\n",
       "    </tr>\n",
       "  </tbody>\n",
       "</table>\n",
       "</div>"
      ],
      "text/plain": [
       "                            person_age  person_income  person_home_ownership  \\\n",
       "person_age                    1.000000       0.173202              -0.033379   \n",
       "person_income                 0.173202       1.000000              -0.197299   \n",
       "person_home_ownership        -0.033379      -0.197299               1.000000   \n",
       "person_emp_length             0.163106       0.134268              -0.235264   \n",
       "loan_intent                  -0.089184      -0.024044               0.018104   \n",
       "loan_grade                    0.014218      -0.001022               0.124048   \n",
       "loan_amnt                     0.050787       0.266820              -0.125891   \n",
       "loan_int_rate                 0.012580       0.000792               0.143594   \n",
       "loan_status                  -0.021629      -0.144449               0.221992   \n",
       "loan_percent_income          -0.042411      -0.254471               0.138344   \n",
       "cb_person_default_on_file     0.005807      -0.003613               0.065039   \n",
       "cb_person_cred_hist_length    0.859133       0.117987              -0.026798   \n",
       "\n",
       "                            person_emp_length  loan_intent  loan_grade  \\\n",
       "person_age                           0.163106    -0.089184    0.014218   \n",
       "person_income                        0.134268    -0.024044   -0.001022   \n",
       "person_home_ownership               -0.235264     0.018104    0.124048   \n",
       "person_emp_length                    1.000000    -0.031255   -0.047276   \n",
       "loan_intent                         -0.031255     1.000000   -0.024163   \n",
       "loan_grade                          -0.047276    -0.024163    1.000000   \n",
       "loan_amnt                            0.113082    -0.022979    0.145799   \n",
       "loan_int_rate                       -0.056405    -0.018476    0.933684   \n",
       "loan_status                         -0.082489    -0.110887    0.373080   \n",
       "loan_percent_income                 -0.054111     0.005001    0.123021   \n",
       "cb_person_default_on_file           -0.027728    -0.014291    0.537054   \n",
       "cb_person_cred_hist_length           0.144699    -0.073557    0.015069   \n",
       "\n",
       "                            loan_amnt  loan_int_rate  loan_status  \\\n",
       "person_age                   0.050787       0.012580    -0.021629   \n",
       "person_income                0.266820       0.000792    -0.144449   \n",
       "person_home_ownership       -0.125891       0.143594     0.221992   \n",
       "person_emp_length            0.113082      -0.056405    -0.082489   \n",
       "loan_intent                 -0.022979      -0.018476    -0.110887   \n",
       "loan_grade                   0.145799       0.933684     0.373080   \n",
       "loan_amnt                    1.000000       0.146813     0.105376   \n",
       "loan_int_rate                0.146813       1.000000     0.335133   \n",
       "loan_status                  0.105376       0.335133     1.000000   \n",
       "loan_percent_income          0.572612       0.120314     0.379366   \n",
       "cb_person_default_on_file    0.039081       0.501072     0.179141   \n",
       "cb_person_cred_hist_length   0.041967       0.016696    -0.015529   \n",
       "\n",
       "                            loan_percent_income  cb_person_default_on_file  \\\n",
       "person_age                            -0.042411                   0.005807   \n",
       "person_income                         -0.254471                  -0.003613   \n",
       "person_home_ownership                  0.138344                   0.065039   \n",
       "person_emp_length                     -0.054111                  -0.027728   \n",
       "loan_intent                            0.005001                  -0.014291   \n",
       "loan_grade                             0.123021                   0.537054   \n",
       "loan_amnt                              0.572612                   0.039081   \n",
       "loan_int_rate                          0.120314                   0.501072   \n",
       "loan_status                            0.379366                   0.179141   \n",
       "loan_percent_income                    1.000000                   0.035910   \n",
       "cb_person_default_on_file              0.035910                   1.000000   \n",
       "cb_person_cred_hist_length            -0.031690                   0.004564   \n",
       "\n",
       "                            cb_person_cred_hist_length  \n",
       "person_age                                    0.859133  \n",
       "person_income                                 0.117987  \n",
       "person_home_ownership                        -0.026798  \n",
       "person_emp_length                             0.144699  \n",
       "loan_intent                                  -0.073557  \n",
       "loan_grade                                    0.015069  \n",
       "loan_amnt                                     0.041967  \n",
       "loan_int_rate                                 0.016696  \n",
       "loan_status                                  -0.015529  \n",
       "loan_percent_income                          -0.031690  \n",
       "cb_person_default_on_file                     0.004564  \n",
       "cb_person_cred_hist_length                    1.000000  "
      ]
     },
     "execution_count": 11,
     "metadata": {},
     "output_type": "execute_result"
    }
   ],
   "source": [
    "df.corr()"
   ]
  },
  {
   "cell_type": "markdown",
   "metadata": {},
   "source": [
    "Phase entrainement de modèles:"
   ]
  },
  {
   "cell_type": "code",
   "execution_count": 12,
   "metadata": {},
   "outputs": [],
   "source": [
    "from sklearn.model_selection import train_test_split\n",
    "import statsmodels.api as sm\n",
    "import statsmodels.formula.api as smf\n",
    "from sklearn.preprocessing import StandardScaler"
   ]
  },
  {
   "cell_type": "code",
   "execution_count": 13,
   "metadata": {},
   "outputs": [],
   "source": [
    "X = df[['person_age','person_income','person_home_ownership','person_emp_length','loan_intent','loan_grade',\n",
    "       'loan_amnt','loan_int_rate','loan_status','loan_percent_income','cb_person_cred_hist_length']]\n",
    "\n",
    "y = df['cb_person_default_on_file']"
   ]
  },
  {
   "cell_type": "code",
   "execution_count": 14,
   "metadata": {},
   "outputs": [],
   "source": [
    "X_train, X_test, y_train, y_test = train_test_split(X, y, test_size=0.2, random_state=0)\n",
    "\n",
    "X_train = sm.add_constant(X_train)\n",
    "X_test = sm.add_constant(X_test)\n",
    "\n",
    "X_train = X_train.dropna()\n",
    "y_train = y_train.loc[X_train.index]\n",
    "\n",
    "X_test = X_test.dropna()\n",
    "y_test = y_test.loc[X_test.index]"
   ]
  },
  {
   "cell_type": "markdown",
   "metadata": {},
   "source": [
    "OLS"
   ]
  },
  {
   "cell_type": "code",
   "execution_count": 15,
   "metadata": {},
   "outputs": [],
   "source": [
    "model= sm.OLS(y_train, X_train).fit(cov_type='HC3')\n",
    "df['OLS_predicted'] = model.predict(X_train)"
   ]
  },
  {
   "cell_type": "code",
   "execution_count": 16,
   "metadata": {},
   "outputs": [
    {
     "data": {
      "text/html": [
       "<table class=\"simpletable\">\n",
       "<caption>OLS Regression Results</caption>\n",
       "<tr>\n",
       "  <th>Dep. Variable:</th>    <td>cb_person_default_on_file</td> <th>  R-squared:         </th> <td>   0.293</td> \n",
       "</tr>\n",
       "<tr>\n",
       "  <th>Model:</th>                       <td>OLS</td>            <th>  Adj. R-squared:    </th> <td>   0.293</td> \n",
       "</tr>\n",
       "<tr>\n",
       "  <th>Method:</th>                 <td>Least Squares</td>       <th>  F-statistic:       </th> <td>   546.5</td> \n",
       "</tr>\n",
       "<tr>\n",
       "  <th>Date:</th>                 <td>Wed, 12 Jun 2024</td>      <th>  Prob (F-statistic):</th>  <td>  0.00</td>  \n",
       "</tr>\n",
       "<tr>\n",
       "  <th>Time:</th>                     <td>01:22:27</td>          <th>  Log-Likelihood:    </th> <td> -6583.6</td> \n",
       "</tr>\n",
       "<tr>\n",
       "  <th>No. Observations:</th>          <td> 22886</td>           <th>  AIC:               </th> <td>1.319e+04</td>\n",
       "</tr>\n",
       "<tr>\n",
       "  <th>Df Residuals:</th>              <td> 22874</td>           <th>  BIC:               </th> <td>1.329e+04</td>\n",
       "</tr>\n",
       "<tr>\n",
       "  <th>Df Model:</th>                  <td>    11</td>           <th>                     </th>     <td> </td>    \n",
       "</tr>\n",
       "<tr>\n",
       "  <th>Covariance Type:</th>             <td>HC3</td>            <th>                     </th>     <td> </td>    \n",
       "</tr>\n",
       "</table>\n",
       "<table class=\"simpletable\">\n",
       "<tr>\n",
       "               <td></td>                 <th>coef</th>     <th>std err</th>      <th>z</th>      <th>P>|z|</th>  <th>[0.025</th>    <th>0.975]</th>  \n",
       "</tr>\n",
       "<tr>\n",
       "  <th>const</th>                      <td>   -0.0063</td> <td>    0.022</td> <td>   -0.293</td> <td> 0.770</td> <td>   -0.048</td> <td>    0.036</td>\n",
       "</tr>\n",
       "<tr>\n",
       "  <th>person_age</th>                 <td>   -0.0003</td> <td>    0.001</td> <td>   -0.411</td> <td> 0.681</td> <td>   -0.002</td> <td>    0.001</td>\n",
       "</tr>\n",
       "<tr>\n",
       "  <th>person_income</th>              <td> 1.563e-08</td> <td> 7.23e-08</td> <td>    0.216</td> <td> 0.829</td> <td>-1.26e-07</td> <td> 1.57e-07</td>\n",
       "</tr>\n",
       "<tr>\n",
       "  <th>person_home_ownership</th>      <td>   -0.0002</td> <td>    0.002</td> <td>   -0.089</td> <td> 0.929</td> <td>   -0.005</td> <td>    0.004</td>\n",
       "</tr>\n",
       "<tr>\n",
       "  <th>person_emp_length</th>          <td>   -0.0004</td> <td>    0.001</td> <td>   -0.785</td> <td> 0.433</td> <td>   -0.002</td> <td>    0.001</td>\n",
       "</tr>\n",
       "<tr>\n",
       "  <th>loan_intent</th>                <td>   -0.0005</td> <td>    0.001</td> <td>   -0.403</td> <td> 0.687</td> <td>   -0.003</td> <td>    0.002</td>\n",
       "</tr>\n",
       "<tr>\n",
       "  <th>loan_grade</th>                 <td>    0.1827</td> <td>    0.006</td> <td>   29.076</td> <td> 0.000</td> <td>    0.170</td> <td>    0.195</td>\n",
       "</tr>\n",
       "<tr>\n",
       "  <th>loan_amnt</th>                  <td>-2.677e-06</td> <td> 6.51e-07</td> <td>   -4.109</td> <td> 0.000</td> <td>-3.95e-06</td> <td> -1.4e-06</td>\n",
       "</tr>\n",
       "<tr>\n",
       "  <th>loan_int_rate</th>              <td>   -0.0003</td> <td>    0.002</td> <td>   -0.158</td> <td> 0.875</td> <td>   -0.004</td> <td>    0.004</td>\n",
       "</tr>\n",
       "<tr>\n",
       "  <th>loan_status</th>                <td>   -0.0255</td> <td>    0.007</td> <td>   -3.429</td> <td> 0.001</td> <td>   -0.040</td> <td>   -0.011</td>\n",
       "</tr>\n",
       "<tr>\n",
       "  <th>loan_percent_income</th>        <td>    0.0279</td> <td>    0.039</td> <td>    0.708</td> <td> 0.479</td> <td>   -0.049</td> <td>    0.105</td>\n",
       "</tr>\n",
       "<tr>\n",
       "  <th>cb_person_cred_hist_length</th> <td>    0.0004</td> <td>    0.001</td> <td>    0.359</td> <td> 0.719</td> <td>   -0.002</td> <td>    0.002</td>\n",
       "</tr>\n",
       "</table>\n",
       "<table class=\"simpletable\">\n",
       "<tr>\n",
       "  <th>Omnibus:</th>       <td>1426.904</td> <th>  Durbin-Watson:     </th> <td>   1.993</td>\n",
       "</tr>\n",
       "<tr>\n",
       "  <th>Prob(Omnibus):</th>  <td> 0.000</td>  <th>  Jarque-Bera (JB):  </th> <td>1707.140</td>\n",
       "</tr>\n",
       "<tr>\n",
       "  <th>Skew:</th>           <td> 0.650</td>  <th>  Prob(JB):          </th> <td>    0.00</td>\n",
       "</tr>\n",
       "<tr>\n",
       "  <th>Kurtosis:</th>       <td> 3.317</td>  <th>  Cond. No.          </th> <td>1.37e+06</td>\n",
       "</tr>\n",
       "</table><br/><br/>Notes:<br/>[1] Standard Errors are heteroscedasticity robust (HC3)<br/>[2] The condition number is large, 1.37e+06. This might indicate that there are<br/>strong multicollinearity or other numerical problems."
      ],
      "text/latex": [
       "\\begin{center}\n",
       "\\begin{tabular}{lclc}\n",
       "\\toprule\n",
       "\\textbf{Dep. Variable:}                 & cb\\_person\\_default\\_on\\_file & \\textbf{  R-squared:         } &     0.293   \\\\\n",
       "\\textbf{Model:}                         &              OLS              & \\textbf{  Adj. R-squared:    } &     0.293   \\\\\n",
       "\\textbf{Method:}                        &         Least Squares         & \\textbf{  F-statistic:       } &     546.5   \\\\\n",
       "\\textbf{Date:}                          &        Wed, 12 Jun 2024       & \\textbf{  Prob (F-statistic):} &     0.00    \\\\\n",
       "\\textbf{Time:}                          &            01:22:27           & \\textbf{  Log-Likelihood:    } &   -6583.6   \\\\\n",
       "\\textbf{No. Observations:}              &              22886            & \\textbf{  AIC:               } & 1.319e+04   \\\\\n",
       "\\textbf{Df Residuals:}                  &              22874            & \\textbf{  BIC:               } & 1.329e+04   \\\\\n",
       "\\textbf{Df Model:}                      &                 11            & \\textbf{                     } &             \\\\\n",
       "\\textbf{Covariance Type:}               &              HC3              & \\textbf{                     } &             \\\\\n",
       "\\bottomrule\n",
       "\\end{tabular}\n",
       "\\begin{tabular}{lcccccc}\n",
       "                                        & \\textbf{coef} & \\textbf{std err} & \\textbf{z} & \\textbf{P$> |$z$|$} & \\textbf{[0.025} & \\textbf{0.975]}  \\\\\n",
       "\\midrule\n",
       "\\textbf{const}                          &      -0.0063  &        0.022     &    -0.293  &         0.770        &       -0.048    &        0.036     \\\\\n",
       "\\textbf{person\\_age}                    &      -0.0003  &        0.001     &    -0.411  &         0.681        &       -0.002    &        0.001     \\\\\n",
       "\\textbf{person\\_income}                 &    1.563e-08  &     7.23e-08     &     0.216  &         0.829        &    -1.26e-07    &     1.57e-07     \\\\\n",
       "\\textbf{person\\_home\\_ownership}        &      -0.0002  &        0.002     &    -0.089  &         0.929        &       -0.005    &        0.004     \\\\\n",
       "\\textbf{person\\_emp\\_length}            &      -0.0004  &        0.001     &    -0.785  &         0.433        &       -0.002    &        0.001     \\\\\n",
       "\\textbf{loan\\_intent}                   &      -0.0005  &        0.001     &    -0.403  &         0.687        &       -0.003    &        0.002     \\\\\n",
       "\\textbf{loan\\_grade}                    &       0.1827  &        0.006     &    29.076  &         0.000        &        0.170    &        0.195     \\\\\n",
       "\\textbf{loan\\_amnt}                     &   -2.677e-06  &     6.51e-07     &    -4.109  &         0.000        &    -3.95e-06    &     -1.4e-06     \\\\\n",
       "\\textbf{loan\\_int\\_rate}                &      -0.0003  &        0.002     &    -0.158  &         0.875        &       -0.004    &        0.004     \\\\\n",
       "\\textbf{loan\\_status}                   &      -0.0255  &        0.007     &    -3.429  &         0.001        &       -0.040    &       -0.011     \\\\\n",
       "\\textbf{loan\\_percent\\_income}          &       0.0279  &        0.039     &     0.708  &         0.479        &       -0.049    &        0.105     \\\\\n",
       "\\textbf{cb\\_person\\_cred\\_hist\\_length} &       0.0004  &        0.001     &     0.359  &         0.719        &       -0.002    &        0.002     \\\\\n",
       "\\bottomrule\n",
       "\\end{tabular}\n",
       "\\begin{tabular}{lclc}\n",
       "\\textbf{Omnibus:}       & 1426.904 & \\textbf{  Durbin-Watson:     } &    1.993  \\\\\n",
       "\\textbf{Prob(Omnibus):} &   0.000  & \\textbf{  Jarque-Bera (JB):  } & 1707.140  \\\\\n",
       "\\textbf{Skew:}          &   0.650  & \\textbf{  Prob(JB):          } &     0.00  \\\\\n",
       "\\textbf{Kurtosis:}      &   3.317  & \\textbf{  Cond. No.          } & 1.37e+06  \\\\\n",
       "\\bottomrule\n",
       "\\end{tabular}\n",
       "%\\caption{OLS Regression Results}\n",
       "\\end{center}\n",
       "\n",
       "Notes: \\newline\n",
       " [1] Standard Errors are heteroscedasticity robust (HC3) \\newline\n",
       " [2] The condition number is large, 1.37e+06. This might indicate that there are \\newline\n",
       " strong multicollinearity or other numerical problems."
      ],
      "text/plain": [
       "<class 'statsmodels.iolib.summary.Summary'>\n",
       "\"\"\"\n",
       "                                OLS Regression Results                               \n",
       "=====================================================================================\n",
       "Dep. Variable:     cb_person_default_on_file   R-squared:                       0.293\n",
       "Model:                                   OLS   Adj. R-squared:                  0.293\n",
       "Method:                        Least Squares   F-statistic:                     546.5\n",
       "Date:                       Wed, 12 Jun 2024   Prob (F-statistic):               0.00\n",
       "Time:                               01:22:27   Log-Likelihood:                -6583.6\n",
       "No. Observations:                      22886   AIC:                         1.319e+04\n",
       "Df Residuals:                          22874   BIC:                         1.329e+04\n",
       "Df Model:                                 11                                         \n",
       "Covariance Type:                         HC3                                         \n",
       "==============================================================================================\n",
       "                                 coef    std err          z      P>|z|      [0.025      0.975]\n",
       "----------------------------------------------------------------------------------------------\n",
       "const                         -0.0063      0.022     -0.293      0.770      -0.048       0.036\n",
       "person_age                    -0.0003      0.001     -0.411      0.681      -0.002       0.001\n",
       "person_income               1.563e-08   7.23e-08      0.216      0.829   -1.26e-07    1.57e-07\n",
       "person_home_ownership         -0.0002      0.002     -0.089      0.929      -0.005       0.004\n",
       "person_emp_length             -0.0004      0.001     -0.785      0.433      -0.002       0.001\n",
       "loan_intent                   -0.0005      0.001     -0.403      0.687      -0.003       0.002\n",
       "loan_grade                     0.1827      0.006     29.076      0.000       0.170       0.195\n",
       "loan_amnt                  -2.677e-06   6.51e-07     -4.109      0.000   -3.95e-06    -1.4e-06\n",
       "loan_int_rate                 -0.0003      0.002     -0.158      0.875      -0.004       0.004\n",
       "loan_status                   -0.0255      0.007     -3.429      0.001      -0.040      -0.011\n",
       "loan_percent_income            0.0279      0.039      0.708      0.479      -0.049       0.105\n",
       "cb_person_cred_hist_length     0.0004      0.001      0.359      0.719      -0.002       0.002\n",
       "==============================================================================\n",
       "Omnibus:                     1426.904   Durbin-Watson:                   1.993\n",
       "Prob(Omnibus):                  0.000   Jarque-Bera (JB):             1707.140\n",
       "Skew:                           0.650   Prob(JB):                         0.00\n",
       "Kurtosis:                       3.317   Cond. No.                     1.37e+06\n",
       "==============================================================================\n",
       "\n",
       "Notes:\n",
       "[1] Standard Errors are heteroscedasticity robust (HC3)\n",
       "[2] The condition number is large, 1.37e+06. This might indicate that there are\n",
       "strong multicollinearity or other numerical problems.\n",
       "\"\"\""
      ]
     },
     "execution_count": 16,
     "metadata": {},
     "output_type": "execute_result"
    }
   ],
   "source": [
    "model.summary()"
   ]
  },
  {
   "cell_type": "code",
   "execution_count": 17,
   "metadata": {},
   "outputs": [
    {
     "data": {
      "text/plain": [
       "<Axes: xlabel='OLS_predicted', ylabel='Count'>"
      ]
     },
     "execution_count": 17,
     "metadata": {},
     "output_type": "execute_result"
    },
    {
     "data": {
      "image/png": "iVBORw0KGgoAAAANSUhEUgAAAkQAAAGxCAYAAACDV6ltAAAAOXRFWHRTb2Z0d2FyZQBNYXRwbG90bGliIHZlcnNpb24zLjguNCwgaHR0cHM6Ly9tYXRwbG90bGliLm9yZy8fJSN1AAAACXBIWXMAAA9hAAAPYQGoP6dpAAA7QElEQVR4nO3de1hVdd7//xcCe+Npg2icEg21FDxkaunuYKYkKjVZzj01OUp3aqOBkzqjDpOpaakXlWbmYcqS5hodsxntbsQ8YWoldiBJReM7mo0WbKgMtkcQWL8/uti/dioC4d4b1vNxXeu63Gu999rv9bmAXq31WWv7GYZhCAAAwMSaeLsBAAAAbyMQAQAA0yMQAQAA0yMQAQAA0yMQAQAA0yMQAQAA0yMQAQAA0yMQAQAA0wvwdgMNQWVlpfLz89WyZUv5+fl5ux0AAFADhmHo1KlTioqKUpMm1Z8DIhDVQH5+vqKjo73dBgAAqIMTJ06obdu21dYQiGqgZcuWkn4cUJvN5uVuAABATTidTkVHR7v+O14dAlENVF0ms9lsBCIAABqYmkx3YVI1AAAwPQIRAAAwPQIRAAAwPQIRAAAwPQIRAAAwPQIRAAAwPQIRAAAwPQIRAAAwPQIRAAAwPQIRAAAwPQIRAAAwPQIRAAAwPQIRAAAwPQIRAAAwPQIRAAAwvQBvNwDP6xzXTQX5+dXWREZFKe/QQQ91BACAdxGITKggP1/D0jKqrdk0LdFD3QAA4H1cMgMAAKZHIAIAAKZHIAIAAKZHIAIAAKZHIAIAAKbnM4FowYIF8vPz06RJk1zrzp8/r+TkZLVu3VotWrTQiBEjVFhY6Pa+48ePKzExUc2aNVNYWJimTp2q8vJyt5qdO3eqV69eslqt6tSpk9LT0z1wRAAAoKHwiUD0ySef6K9//at69Ojhtn7y5Mn697//rbfeeku7du1Sfn6+HnjgAdf2iooKJSYmqqysTHv27NEbb7yh9PR0zZw501Vz7NgxJSYm6q677lJOTo4mTZqksWPHasuWLR47PgAA4Nu8HohOnz6tkSNH6tVXX1WrVq1c60tKSvTaa69p4cKFGjhwoHr37q1Vq1Zpz5492rt3ryRp69atOnTokP7+97+rZ8+eGjp0qObOnaulS5eqrKxMkrRixQrFxMTohRdeUGxsrFJSUvTrX/9aixYt8srxAgAA3+P1QJScnKzExETFx8e7rc/OztaFCxfc1nfp0kXt2rVTVlaWJCkrK0vdu3dXeHi4qyYhIUFOp1O5ubmump/vOyEhwbWPSyktLZXT6XRbAABA4+XVJ1WvXbtWn332mT755JOLtjkcDlksFoWEhLitDw8Pl8PhcNX8NAxVba/aVl2N0+nUuXPn1LRp04s+e/78+Xr66afrfFwAAKBh8doZohMnTuiJJ57Q6tWrFRQU5K02Lik1NVUlJSWu5cSJE95uCQAAXEVeC0TZ2dkqKipSr169FBAQoICAAO3atUsvvfSSAgICFB4errKyMhUXF7u9r7CwUBEREZKkiIiIi+46q3p9pRqbzXbJs0OSZLVaZbPZ3BYAANB4eS0QDRo0SAcOHFBOTo5r6dOnj0aOHOn6d2BgoDIzM13vycvL0/Hjx2W32yVJdrtdBw4cUFFRkatm27ZtstlsiouLc9X8dB9VNVX7AAAA8NocopYtW6pbt25u65o3b67WrVu71o8ZM0ZTpkxRaGiobDabJk6cKLvdrn79+kmSBg8erLi4OI0aNUppaWlyOByaMWOGkpOTZbVaJUnjx4/Xyy+/rGnTpunRRx/Vjh07tG7dOmVkVP9t7wAAwDy8Oqn6ShYtWqQmTZpoxIgRKi0tVUJCgpYtW+ba7u/vr40bN2rChAmy2+1q3ry5kpKSNGfOHFdNTEyMMjIyNHnyZC1evFht27bVypUrlZCQ4I1DAgAAPsjPMAzD2034OqfTqeDgYJWUlDSK+US2kFANS6v+DNmmaYlyFp/0UEcAANS/2vz32+vPIQIAAPA2AhEAADA9AhEAADA9AhEAADA9AhEAADA9AhEAADA9AhEAADA9AhEAADA9n35SNeAtneO6qSA/v9qayKgo5R066KGOAABXE4EIuISC/PwaPc0bANA4cMkMAACYHoEIAACYHoEIAACYHoEIAACYHoEIAACYHoEIAACYHoEIAACYHoEIAACYHoEIAACYHoEIAACYHoEIAACYHoEIAACYHoEIAACYHoEIAACYHoEIAACYHoEIAACYHoEIAACYHoEIAACYHoEIAACYHoEIAACYHoEIAACYnlcD0fLly9WjRw/ZbDbZbDbZ7Xa9++67ru0DBgyQn5+f2zJ+/Hi3fRw/flyJiYlq1qyZwsLCNHXqVJWXl7vV7Ny5U7169ZLValWnTp2Unp7uicMDAAANRIA3P7xt27ZasGCBrr/+ehmGoTfeeEP33Xef9u3bp65du0qSxo0bpzlz5rje06xZM9e/KyoqlJiYqIiICO3Zs0cFBQUaPXq0AgMDNW/ePEnSsWPHlJiYqPHjx2v16tXKzMzU2LFjFRkZqYSEBM8eMAAA8EleDUT33nuv2+tnn31Wy5cv1969e12BqFmzZoqIiLjk+7du3apDhw5p+/btCg8PV8+ePTV37lxNnz5ds2fPlsVi0YoVKxQTE6MXXnhBkhQbG6sPPvhAixYtIhABAABJPjSHqKKiQmvXrtWZM2dkt9td61evXq02bdqoW7duSk1N1dmzZ13bsrKy1L17d4WHh7vWJSQkyOl0Kjc311UTHx/v9lkJCQnKysq6ykcEAAAaCq+eIZKkAwcOyG636/z582rRooU2bNiguLg4SdLDDz+s9u3bKyoqSvv379f06dOVl5en9evXS5IcDodbGJLkeu1wOKqtcTqdOnfunJo2bXpRT6WlpSotLXW9djqd9XfAAADA53g9EHXu3Fk5OTkqKSnRP//5TyUlJWnXrl2Ki4vTY4895qrr3r27IiMjNWjQIB09elQdO3a8aj3Nnz9fTz/99FXbPwAA8C1ev2RmsVjUqVMn9e7dW/Pnz9eNN96oxYsXX7K2b9++kqQjR45IkiIiIlRYWOhWU/W6at7R5WpsNtslzw5JUmpqqkpKSlzLiRMn6n6AAADA53k9EP1cZWWl2+Wqn8rJyZEkRUZGSpLsdrsOHDigoqIiV822bdtks9lcl93sdrsyMzPd9rNt2za3eUo/Z7VaXY8CqFoAAEDj5dVLZqmpqRo6dKjatWunU6dOac2aNdq5c6e2bNmio0ePas2aNRo2bJhat26t/fv3a/Lkyerfv7969OghSRo8eLDi4uI0atQopaWlyeFwaMaMGUpOTpbVapUkjR8/Xi+//LKmTZumRx99VDt27NC6deuUkZHhzUMHAAA+xKuBqKioSKNHj1ZBQYGCg4PVo0cPbdmyRXfffbdOnDih7du368UXX9SZM2cUHR2tESNGaMaMGa73+/v7a+PGjZowYYLsdruaN2+upKQkt+cWxcTEKCMjQ5MnT9bixYvVtm1brVy5klvuAQCAi1cD0WuvvXbZbdHR0dq1a9cV99G+fXtt2rSp2poBAwZo3759te4PAACYg8/NIQIAAPA0AhEAADA9AhEAADA9AhEAADA9AhEAADA9AhEAADA9AhEAADA9AhEAADA9AhEAADA9AhEAADA9AhEAADA9AhEAADA9AhEAADA9AhEAADA9AhEAADA9AhEAADA9AhEAADA9AhEAADA9AhEAADA9AhEAADA9AhEAADA9AhEAADA9AhEAADA9AhEAADA9AhEAADA9AhEAADA9AhEAADA9AhEAADA9AhEAADA9AhEAADA9AhEAADA9AhEAADA9rwai5cuXq0ePHrLZbLLZbLLb7Xr33Xdd28+fP6/k5GS1bt1aLVq00IgRI1RYWOi2j+PHjysxMVHNmjVTWFiYpk6dqvLycreanTt3qlevXrJarerUqZPS09M9cXgAAKCB8Gogatu2rRYsWKDs7Gx9+umnGjhwoO677z7l5uZKkiZPnqx///vfeuutt7Rr1y7l5+frgQcecL2/oqJCiYmJKisr0549e/TGG28oPT1dM2fOdNUcO3ZMiYmJuuuuu5STk6NJkyZp7Nix2rJli8ePFwAA+CY/wzAMbzfxU6GhoXruuef061//Wtdcc43WrFmjX//615KkL774QrGxscrKylK/fv307rvv6p577lF+fr7Cw8MlSStWrND06dP17bffymKxaPr06crIyNDBgwddn/HQQw+puLhYmzdvrlFPTqdTwcHBKikpkc1mq/+D9jBbSKiGpWVUW7NpWqKcxSc91JHvYYwAoOGrzX+/fWYOUUVFhdauXaszZ87IbrcrOztbFy5cUHx8vKumS5cuateunbKysiRJWVlZ6t69uysMSVJCQoKcTqfrLFNWVpbbPqpqqvZxKaWlpXI6nW4LAABovLweiA4cOKAWLVrIarVq/Pjx2rBhg+Li4uRwOGSxWBQSEuJWHx4eLofDIUlyOBxuYahqe9W26mqcTqfOnTt3yZ7mz5+v4OBg1xIdHV0fhwoAAHyU1wNR586dlZOTo48++kgTJkxQUlKSDh065NWeUlNTVVJS4lpOnDjh1X4AAMDVFeDtBiwWizp16iRJ6t27tz755BMtXrxYDz74oMrKylRcXOx2lqiwsFARERGSpIiICH388cdu+6u6C+2nNT+/M62wsFA2m01Nmza9ZE9Wq1VWq7Vejg8AAPg+r58h+rnKykqVlpaqd+/eCgwMVGZmpmtbXl6ejh8/LrvdLkmy2+06cOCAioqKXDXbtm2TzWZTXFycq+an+6iqqdoHAACAV88QpaamaujQoWrXrp1OnTqlNWvWaOfOndqyZYuCg4M1ZswYTZkyRaGhobLZbJo4caLsdrv69esnSRo8eLDi4uI0atQopaWlyeFwaMaMGUpOTnad4Rk/frxefvllTZs2TY8++qh27NihdevWKSOj+juIAACAeXg1EBUVFWn06NEqKChQcHCwevTooS1btujuu++WJC1atEhNmjTRiBEjVFpaqoSEBC1btsz1fn9/f23cuFETJkyQ3W5X8+bNlZSUpDlz5rhqYmJilJGRocmTJ2vx4sVq27atVq5cqYSEBI8fLwAA8E0+9xwiX8RziMyHMQKAhq9BPocIAADAWwhEAADA9AhEAADA9AhEAADA9AhEAADA9AhEAADA9AhEAADA9AhEAADA9AhEAADA9AhEAADA9AhEAADA9AhEAADA9AhEAADA9AhEAADA9AhEAADA9AhEAADA9AhEAADA9AhEAADA9AhEAADA9AhEAADA9AhEAADA9AhEAADA9AhEAADA9AhEAADA9AhEAADA9AhEAADA9AhEAADA9AhEAADA9AhEAADA9AhEAADA9AhEAADA9LwaiObPn6+bb75ZLVu2VFhYmIYPH668vDy3mgEDBsjPz89tGT9+vFvN8ePHlZiYqGbNmiksLExTp05VeXm5W83OnTvVq1cvWa1WderUSenp6Vf78AAAQAPh1UC0a9cuJScna+/evdq2bZsuXLigwYMH68yZM25148aNU0FBgWtJS0tzbauoqFBiYqLKysq0Z88evfHGG0pPT9fMmTNdNceOHVNiYqLuuusu5eTkaNKkSRo7dqy2bNnisWMFAAC+K8CbH75582a31+np6QoLC1N2drb69+/vWt+sWTNFRERcch9bt27VoUOHtH37doWHh6tnz56aO3eupk+frtmzZ8tisWjFihWKiYnRCy+8IEmKjY3VBx98oEWLFikhIeHqHSAAAGgQfGoOUUlJiSQpNDTUbf3q1avVpk0bdevWTampqTp79qxrW1ZWlrp3767w8HDXuoSEBDmdTuXm5rpq4uPj3faZkJCgrKysq3UoAACgAfHqGaKfqqys1KRJk3TbbbepW7durvUPP/yw2rdvr6ioKO3fv1/Tp09XXl6e1q9fL0lyOBxuYUiS67XD4ai2xul06ty5c2ratKnbttLSUpWWlrpeO53O+jtQAADgc3wmECUnJ+vgwYP64IMP3NY/9thjrn93795dkZGRGjRokI4ePaqOHTtelV7mz5+vp59++qrsGwAA+B6fuGSWkpKijRs36r333lPbtm2rre3bt68k6ciRI5KkiIgIFRYWutVUva6ad3S5GpvNdtHZIUlKTU1VSUmJazlx4kTdDgwAADQIXg1EhmEoJSVFGzZs0I4dOxQTE3PF9+Tk5EiSIiMjJUl2u10HDhxQUVGRq2bbtm2y2WyKi4tz1WRmZrrtZ9u2bbLb7Zf8DKvVKpvN5rYAAIDGy6uBKDk5WX//+9+1Zs0atWzZUg6HQw6HQ+fOnZMkHT16VHPnzlV2dra++uorvfPOOxo9erT69++vHj16SJIGDx6suLg4jRo1Sp9//rm2bNmiGTNmKDk5WVarVZI0fvx4ffnll5o2bZq++OILLVu2TOvWrdPkyZO9duwAAMB3eDUQLV++XCUlJRowYIAiIyNdy5tvvilJslgs2r59uwYPHqwuXbroj3/8o0aMGKF///vfrn34+/tr48aN8vf3l91u1+9+9zuNHj1ac+bMcdXExMQoIyND27Zt04033qgXXnhBK1eu5JZ7AAAgycuTqg3DqHZ7dHS0du3adcX9tG/fXps2baq2ZsCAAdq3b1+t+gMAAObgM3eZAZ7SOa6bCvLzq60585NnXQEAGj8CEUynID9fw9Iyqq1ZlzzAM80AAHyCT9x2DwAA4E11CkQdOnTQ999/f9H64uJidejQ4Rc3BQAA4El1umT21VdfqaKi4qL1paWl+uabb35xU/C+M+fOyRYSWm1NZFSU8g4d9FBHAABcPbUKRO+8847r31u2bFFwcLDrdUVFhTIzM3XdddfVW3PwHqOy8orzbDZNS/RQN/CGmkw+JxQDaCxqFYiGDx8uSfLz81NSUpLbtsDAQF133XV64YUX6q05AN5Tk8nnhGIAjUWtAlFlZaWkHx90+Mknn6hNmzZXpSkAAABPqtMcomPHjtV3HwAAAF5T5+cQZWZmKjMzU0VFRa4zR1Vef/31X9wYAACAp9QpED399NOaM2eO+vTpo8jISPn5+dV3XwAAAB5Tp0C0YsUKpaena9SoUfXdDwAAgMfV6cGMZWVluvXWW+u7FwAAAK+oUyAaO3as1qxZU9+9AAAAeEWdLpmdP39er7zyirZv364ePXooMDDQbfvChQvrpTkAAABPqFMg2r9/v3r27ClJOnjQ/Sm1TLAGAAANTZ0C0XvvvVfffQAAAHhNneYQAQAANCZ1OkN01113VXtpbMeOHXVuCAAAwNPqFIiq5g9VuXDhgnJycnTw4MGLvvQVAADA19UpEC1atOiS62fPnq3Tp0//ooYAAAA8rV7nEP3ud7/je8wAAECDU6+BKCsrS0FBQfW5SwAAgKuuTpfMHnjgAbfXhmGooKBAn376qZ566ql6aQwAAMBT6hSIgoOD3V43adJEnTt31pw5czR48OB6aQwAAMBT6hSIVq1aVd99AAAAeE2dAlGV7OxsHT58WJLUtWtX3XTTTfXSFAAAgCfVKRAVFRXpoYce0s6dOxUSEiJJKi4u1l133aW1a9fqmmuuqc8eAQAArqo63WU2ceJEnTp1Srm5uTp58qROnjypgwcPyul06g9/+EN99wgAAHBV1ekM0ebNm7V9+3bFxsa61sXFxWnp0qVMqgYAAA1Onc4QVVZWKjAw8KL1gYGBqqys/MVNAQAAeFKdAtHAgQP1xBNPKD8/37Xum2++0eTJkzVo0KB6aw4AAMAT6hSIXn75ZTmdTl133XXq2LGjOnbsqJiYGDmdTi1ZsqTG+5k/f75uvvlmtWzZUmFhYRo+fLjy8vLcas6fP6/k5GS1bt1aLVq00IgRI1RYWOhWc/z4cSUmJqpZs2YKCwvT1KlTVV5e7lazc+dO9erVS1arVZ06dVJ6enpdDh0AADRCdZpDFB0drc8++0zbt2/XF198IUmKjY1VfHx8rfaza9cuJScn6+abb1Z5ebn+8pe/aPDgwTp06JCaN28uSZo8ebIyMjL01ltvKTg4WCkpKXrggQf04YcfSpIqKiqUmJioiIgI7dmzRwUFBRo9erQCAwM1b948SdKxY8eUmJio8ePHa/Xq1crMzNTYsWMVGRmphISEugwBAABoRGoViHbs2KGUlBTt3btXNptNd999t+6++25JUklJibp27aoVK1bojjvuqNH+Nm/e7PY6PT1dYWFhys7OVv/+/VVSUqLXXntNa9as0cCBAyX9+FDI2NhY7d27V/369dPWrVt16NAhbd++XeHh4erZs6fmzp2r6dOna/bs2bJYLFqxYoViYmL0wgsvSPoxvH3wwQdatGgRgQgAANTuktmLL76ocePGyWazXbQtODhYv//977Vw4cI6N1NSUiJJCg0NlfTjgx8vXLjgduapS5cuateunbKysiT9+IWy3bt3V3h4uKsmISFBTqdTubm5rpqfn71KSEhw7ePnSktL5XQ63RYAANB41SoQff755xoyZMhltw8ePFjZ2dl1aqSyslKTJk3Sbbfdpm7dukmSHA6HLBaL6+GPVcLDw+VwOFw1Pw1DVdurtlVX43Q6de7cuYt6mT9/voKDg11LdHR0nY4JAAA0DLUKRIWFhZe83b5KQECAvv322zo1kpycrIMHD2rt2rV1en99Sk1NVUlJiWs5ceKEt1sCAABXUa0C0bXXXquDBw9edvv+/fsVGRlZ6yZSUlK0ceNGvffee2rbtq1rfUREhMrKylRcXOxWX1hYqIiICFfNz+86q3p9pRqbzaamTZte1I/VapXNZnNbAABA41WrQDRs2DA99dRTOn/+/EXbzp07p1mzZumee+6p8f4Mw1BKSoo2bNigHTt2KCYmxm177969FRgYqMzMTNe6vLw8HT9+XHa7XZJkt9t14MABFRUVuWq2bdsmm82muLg4V81P91FVU7UPAABgbrW6y2zGjBlav369brjhBqWkpKhz586SpC+++EJLly5VRUWFnnzyyRrvLzk5WWvWrNH//d//qWXLlq45P8HBwWratKmCg4M1ZswYTZkyRaGhobLZbJo4caLsdrv69esn6cd5S3FxcRo1apTS0tLkcDg0Y8YMJScny2q1SpLGjx+vl19+WdOmTdOjjz6qHTt2aN26dcrIyKjN4QMAgEaqVoEoPDxce/bs0YQJE5SamirDMCRJfn5+SkhI0NKlSy+avFyd5cuXS5IGDBjgtn7VqlV65JFHJEmLFi1SkyZNNGLECJWWliohIUHLli1z1fr7+2vjxo2aMGGC7Ha7mjdvrqSkJM2ZM8dVExMTo4yMDE2ePFmLFy9W27ZttXLlSm65BwAAkurwYMb27dtr06ZN+uGHH3TkyBEZhqHrr79erVq1qvWHVwWq6gQFBWnp0qVaunTpFXuqzoABA7Rv375a9wgAABq/Oj2pWpJatWqlm2++uT57AQAA8Io6fZcZAABAY0IgAgAApkcgAgAApkcgAgAApkcgAgAApkcgAgAApkcgAgAApkcgAgAApkcgAgAApkcgAgAApkcgAgAApkcgAgAApkcgAgAApkcgAgAApkcgAgAApkcgAgAApkcgAgAApkcgAgAApkcgAgAApkcgAgAApkcgAgAApkcgAgAApkcgAgAApkcgAgAApkcgAgAApkcgAgAApkcgAgAApkcgAgAApkcgAgAApkcgAgAApufVQLR7927de++9ioqKkp+fn95++2237Y888oj8/PzcliFDhrjVnDx5UiNHjpTNZlNISIjGjBmj06dPu9Xs379fd9xxh4KCghQdHa20tLSrfWgAAKAB8WogOnPmjG688UYtXbr0sjVDhgxRQUGBa/nHP/7htn3kyJHKzc3Vtm3btHHjRu3evVuPPfaYa7vT6dTgwYPVvn17ZWdn67nnntPs2bP1yiuvXLXjAgAADUuANz986NChGjp0aLU1VqtVERERl9x2+PBhbd68WZ988on69OkjSVqyZImGDRum559/XlFRUVq9erXKysr0+uuvy2KxqGvXrsrJydHChQvdghMAADAvn59DtHPnToWFhalz586aMGGCvv/+e9e2rKwshYSEuMKQJMXHx6tJkyb66KOPXDX9+/eXxWJx1SQkJCgvL08//PCD5w4EAAD4LK+eIbqSIUOG6IEHHlBMTIyOHj2qv/zlLxo6dKiysrLk7+8vh8OhsLAwt/cEBAQoNDRUDodDkuRwOBQTE+NWEx4e7trWqlWriz63tLRUpaWlrtdOp7O+Dw0AAPgQnw5EDz30kOvf3bt3V48ePdSxY0ft3LlTgwYNumqfO3/+fD399NNXbf8AAMC3+Pwls5/q0KGD2rRpoyNHjkiSIiIiVFRU5FZTXl6ukydPuuYdRUREqLCw0K2m6vXl5ialpqaqpKTEtZw4caK+DwUAAPiQBhWIvv76a33//feKjIyUJNntdhUXFys7O9tVs2PHDlVWVqpv376umt27d+vChQuumm3btqlz586XvFwm/TiR22azuS0AAKDx8mogOn36tHJycpSTkyNJOnbsmHJycnT8+HGdPn1aU6dO1d69e/XVV18pMzNT9913nzp16qSEhARJUmxsrIYMGaJx48bp448/1ocffqiUlBQ99NBDioqKkiQ9/PDDslgsGjNmjHJzc/Xmm29q8eLFmjJlircOGwAA+BivBqJPP/1UN910k2666SZJ0pQpU3TTTTdp5syZ8vf31/79+/WrX/1KN9xwg8aMGaPevXvr/fffl9Vqde1j9erV6tKliwYNGqRhw4bp9ttvd3vGUHBwsLZu3apjx46pd+/e+uMf/6iZM2dyyz0AAHDx6qTqAQMGyDCMy27fsmXLFfcRGhqqNWvWVFvTo0cPvf/++7XuDwAAmEODmkMEAABwNRCIAACA6RGIAACA6RGIAACA6RGIAACA6RGIAACA6RGIAACA6RGIAACA6RGIAACA6RGIAACA6RGIAACA6RGIAACA6RGIAACA6RGIAACA6RGIAACA6RGIAACA6RGIAACA6RGIAACA6QV4uwEA8EWd47qpID+/2prIqCjlHTrooY4AXE0EIgC4hIL8fA1Ly6i2ZtO0RA91A+Bq45IZAAAwPQIRAAAwPQIRAAAwPQIRAAAwPQIRAAAwPQIRAAAwPQIRAAAwPQIRAAAwPQIRAAAwPQIRAAAwPQIRAAAwPb7LDDCZmnxpqSSdOXvWA90AgG/w6hmi3bt3695771VUVJT8/Pz09ttvu203DEMzZ85UZGSkmjZtqvj4eP3nP/9xqzl58qRGjhwpm82mkJAQjRkzRqdPn3ar2b9/v+644w4FBQUpOjpaaWlpV/vQAJ9V9aWlV1oMw/B2qwDgMV4NRGfOnNGNN96opUuXXnJ7WlqaXnrpJa1YsUIfffSRmjdvroSEBJ0/f95VM3LkSOXm5mrbtm3auHGjdu/erccee8y13el0avDgwWrfvr2ys7P13HPPafbs2XrllVeu+vEBAICGwauXzIYOHaqhQ4decpthGHrxxRc1Y8YM3XfffZKkv/3tbwoPD9fbb7+thx56SIcPH9bmzZv1ySefqE+fPpKkJUuWaNiwYXr++ecVFRWl1atXq6ysTK+//rosFou6du2qnJwcLVy40C04AQAA8/LZSdXHjh2Tw+FQfHy8a11wcLD69u2rrKwsSVJWVpZCQkJcYUiS4uPj1aRJE3300Ueumv79+8tisbhqEhISlJeXpx9++OGSn11aWiqn0+m2AACAxstnA5HD4ZAkhYeHu60PDw93bXM4HAoLC3PbHhAQoNDQULeaS+3jp5/xc/Pnz1dwcLBriY6O/uUHBAAAfJbPBiJvSk1NVUlJiWs5ceKEt1sCAABXkc8GooiICElSYWGh2/rCwkLXtoiICBUVFbltLy8v18mTJ91qLrWPn37Gz1mtVtlsNrcFAAA0Xj4biGJiYhQREaHMzEzXOqfTqY8++kh2u12SZLfbVVxcrOzsbFfNjh07VFlZqb59+7pqdu/erQsXLrhqtm3bps6dO6tVq1YeOhoAAODLvBqITp8+rZycHOXk5Ej6cSJ1Tk6Ojh8/Lj8/P02aNEnPPPOM3nnnHR04cECjR49WVFSUhg8fLkmKjY3VkCFDNG7cOH388cf68MMPlZKSooceekhRUVGSpIcfflgWi0VjxoxRbm6u3nzzTS1evFhTpkzx0lEDAABf49Xb7j/99FPdddddrtdVISUpKUnp6emaNm2azpw5o8cee0zFxcW6/fbbtXnzZgUFBbnes3r1aqWkpGjQoEFq0qSJRowYoZdeesm1PTg4WFu3blVycrJ69+6tNm3aaObMmdxyDwAAXLwaiAYMGFDt03D9/Pw0Z84czZkz57I1oaGhWrNmTbWf06NHD73//vt17hMAADRuPjuHCAAAwFMIRAAAwPT4tns0KjX5Jne+xR0A8HMEIjQqVd/kXp11yQM80wwAoMHgkhkAADA9AhEAADA9Lpk1IjWZPyMxhwYAgJ8jEDUiNZk/IzGHBvXnzLlzsoWEVlsTGRWlvEMHPdQRANQNgQhAnRmVlVcM4ZumJXqoGwCoO+YQAQAA0yMQAQAA0yMQAQAA0yMQAQAA0yMQAQAA0yMQAQAA0yMQAQAA0yMQAQAA0yMQAQAA0yMQAQAA0yMQAQAA0yMQAQAA0yMQAQAA0yMQAQAA0yMQAQAA0wvwdgMA4Gmd47qpID+/2pozZ896qBsAvoBABMB0CvLzNSwto9qadckDPNMMAJ/AJTMAAGB6BCIAAGB6BCIAAGB6BCIAAGB6BCIAAGB6BCIAAGB6Ph2IZs+eLT8/P7elS5curu3nz59XcnKyWrdurRYtWmjEiBEqLCx028fx48eVmJioZs2aKSwsTFOnTlV5ebmnDwUAAPgwn38OUdeuXbV9+3bX64CA/7/lyZMnKyMjQ2+99ZaCg4OVkpKiBx54QB9++KEkqaKiQomJiYqIiNCePXtUUFCg0aNHKzAwUPPmzfP4sQAAAN/k84EoICBAERERF60vKSnRa6+9pjVr1mjgwIGSpFWrVik2NlZ79+5Vv379tHXrVh06dEjbt29XeHi4evbsqblz52r69OmaPXu2LBaLpw8HAAD4IJ++ZCZJ//nPfxQVFaUOHTpo5MiROn78uCQpOztbFy5cUHx8vKu2S5cuateunbKysiRJWVlZ6t69u8LDw101CQkJcjqdys3NvexnlpaWyul0ui0AAKDx8ulA1LdvX6Wnp2vz5s1avny5jh07pjvuuEOnTp2Sw+GQxWJRSEiI23vCw8PlcDgkSQ6Hwy0MVW2v2nY58+fPV3BwsGuJjo6u3wMDAAA+xacvmQ0dOtT17x49eqhv375q37691q1bp6ZNm161z01NTdWUKVNcr51OJ6EIAIBGzKfPEP1cSEiIbrjhBh05ckQREREqKytTcXGxW01hYaFrzlFERMRFd51Vvb7UvKQqVqtVNpvNbQEAAI1XgwpEp0+f1tGjRxUZGanevXsrMDBQmZmZru15eXk6fvy47Ha7JMlut+vAgQMqKipy1Wzbtk02m01xcXEe7x8AAPgmn75k9qc//Un33nuv2rdvr/z8fM2aNUv+/v767W9/q+DgYI0ZM0ZTpkxRaGiobDabJk6cKLvdrn79+kmSBg8erLi4OI0aNUppaWlyOByaMWOGkpOTZbVavXx0ABq6M+fOyRYSWm1NZFSU8g4d9FBHAOrKpwPR119/rd/+9rf6/vvvdc011+j222/X3r17dc0110iSFi1apCZNmmjEiBEqLS1VQkKCli1b5nq/v7+/Nm7cqAkTJshut6t58+ZKSkrSnDlzvHVIABoRo7JSw9Iyqq3ZNC3RQ90A+CV8OhCtXbu22u1BQUFaunSpli5detma9u3ba9OmTfXdGgAAaEQa1BwiAACAq4FABAAATI9ABAAATI9ABAAATI9ABAAATI9ABAAATI9ABAAATI9ABAAATI9ABAAATM+nn1QNAPCOznHdVJCff8U6vqsNjQWBCABwkYL8/Ct+T5vEd7Wh8eCSGQAAMD0CEQAAMD0CEQAAMD0CEQAAMD0CEQAAMD3uMgMakZrcKn3m7FkPdeMdjAGAuiAQAY1ITW6VXpc8wDPNeAljAKAuuGQGAABMj0AEAABMj0tmAIA6O3PunGwhodXW8PUeaAgIRACAOjMqK684Z4uv90BDQCACAJPhTjzgYgSiBoI/YIwBUF+4Ew+4GIGogeAPGGMAALh6uMsMAACYHoEIAACYHoEIAACYHoEIAACYHoEIAACYHoEIAACYnqluu1+6dKmee+45ORwO3XjjjVqyZIluueUWb7cFAPBBNXn2WemFC7IGBlZbw1eXNAymCURvvvmmpkyZohUrVqhv37568cUXlZCQoLy8PIWFhXm7PeCKeDAlaoKfk5qp6Tj9z8vvVVuzLnmA7l+0tdoavrqkYTBNIFq4cKHGjRun//3f/5UkrVixQhkZGXr99df15z//2cvdAVfGgylRE/yc1AzjhJ8zRSAqKytTdna2UlNTXeuaNGmi+Ph4ZWVlebGzH/F/dMCV1eT3ROJ3BaiJ+rocWJMaqWFcNjRFIPruu+9UUVGh8PBwt/Xh4eH64osvLqovLS1VaWmp63VJSYkkyel0XpX+8r/5RoPnvFVtzfo/DtOFc2eqrTEM44o1Na2raU19jEmvm/uq0OG4Yt2Zs2frre/6qDl99qxaBreqtkaSwiMi9NknH1VbU5Mx8OTx1+e+ajJONfmjeubsWd3/fPX/Ry/V3++Kr/2eSA3356QmPwM1+T2pCV/8e+LJ45dq/nNypd+n9X8cpnvmbfjFNZK0Yeo9Hh2DKlW/e4ZhXLnYMIFvvvnGkGTs2bPHbf3UqVONW2655aL6WbNmGZJYWFhYWFhYGsFy4sSJK2YFU5whatOmjfz9/VVYWOi2vrCwUBERERfVp6amasqUKa7XlZWVOnnypFq3bi0/P7+r3m9D4nQ6FR0drRMnTshms3m7HZ/GWNUcY1U7jFfNMVY11xjGyjAMnTp1SlFRUVesNUUgslgs6t27tzIzMzV8+HBJP4aczMxMpaSkXFRvtVpltVrd1oWEhHig04bLZrM12F8YT2Osao6xqh3Gq+YYq5pr6GMVHBxcozpTBCJJmjJlipKSktSnTx/dcsstevHFF3XmzBnXXWcAAMC8TBOIHnzwQX377beaOXOmHA6Hevbsqc2bN1800RoAAJiPaQKRJKWkpFzyEhnqzmq1atasWRddYsTFGKuaY6xqh/GqOcaq5sw2Vn6GUZN70QAAABovvtwVAACYHoEIAACYHoEIAACYHoEIV7R06VJdd911CgoKUt++ffXxxx9XW//WW2+pS5cuCgoKUvfu3bVp0yYPdep9tRmrV199VXfccYdatWqlVq1aKT4+/opj25jU9ueqytq1a+Xn5+d6ppgZ1HasiouLlZycrMjISFmtVt1www38HlbjxRdfVOfOndW0aVNFR0dr8uTJOn/+vIe69Z7du3fr3nvvVVRUlPz8/PT2229f8T07d+5Ur169ZLVa1alTJ6Wnp1/1Pj2mfr4cA43V2rVrDYvFYrz++utGbm6uMW7cOCMkJMQoLCy8ZP2HH35o+Pv7G2lpacahQ4eMGTNmGIGBgcaBAwc83Lnn1XasHn74YWPp0qXGvn37jMOHDxuPPPKIERwcbHz99dce7tzzajtWVY4dO2Zce+21xh133GHcd999nmnWy2o7VqWlpUafPn2MYcOGGR988IFx7NgxY+fOnUZOTo6HO/eO2o7X6tWrDavVaqxevdo4duyYsWXLFiMyMtKYPHmyhzv3vE2bNhlPPvmksX79ekOSsWHDhmrrv/zyS6NZs2bGlClTjEOHDhlLliwx/P39jc2bN3um4auMQIRq3XLLLUZycrLrdUVFhREVFWXMnz//kvW/+c1vjMTERLd1ffv2NX7/+99f1T59QW3H6ufKy8uNli1bGm+88cbVatFn1GWsysvLjVtvvdVYuXKlkZSUZJpAVNuxWr58udGhQwejrKzMUy36lNqOV3JysjFw4EC3dVOmTDFuu+22q9qnr6lJIJo2bZrRtWtXt3UPPvigkZCQcBU78xwumeGyysrKlJ2drfj4eNe6Jk2aKD4+XllZWZd8T1ZWllu9JCUkJFy2vrGoy1j93NmzZ3XhwgWFhoZerTZ9Ql3Has6cOQoLC9OYMWM80aZPqMtYvfPOO7Lb7UpOTlZ4eLi6deumefPmqaKiwlNte01dxuvWW29Vdna267Lal19+qU2bNmnYsGEe6bkhaex/3031YEbUznfffaeKioqLnuYdHh6uL7744pLvcTgcl6x3OBxXrU9fUJex+rnp06crKirqoj84jU1dxuqDDz7Qa6+9ppycHA906DvqMlZffvmlduzYoZEjR2rTpk06cuSIHn/8cV24cEGzZs3yRNteU5fxevjhh/Xdd9/p9ttvl2EYKi8v1/jx4/WXv/zFEy03KJf7++50OnXu3Dk1bdrUS53VD84QAT5gwYIFWrt2rTZs2KCgoCBvt+NTTp06pVGjRunVV19VmzZtvN2Oz6usrFRYWJheeeUV9e7dWw8++KCefPJJrVixwtut+aSdO3dq3rx5WrZsmT777DOtX79eGRkZmjt3rrdbg4dxhgiX1aZNG/n7+6uwsNBtfWFhoSIiIi75noiIiFrVNxZ1Gasqzz//vBYsWKDt27erR48eV7NNn1DbsTp69Ki++uor3Xvvva51lZWVkqSAgADl5eWpY8eOV7dpL6nLz1VkZKQCAwPl7+/vWhcbGyuHw6GysjJZLJar2rM31WW8nnrqKY0aNUpjx46VJHXv3l1nzpzRY489pieffFJNmnDeoMrl/r7bbLYGf3ZI4gwRqmGxWNS7d29lZma61lVWViozM1N2u/2S77Hb7W71krRt27bL1jcWdRkrSUpLS9PcuXO1efNm9enTxxOtel1tx6pLly46cOCAcnJyXMuvfvUr3XXXXcrJyVF0dLQn2/eouvxc3XbbbTpy5IgrNErS//t//0+RkZGNOgxJdRuvs2fPXhR6qsKkwTdbuWn0f9+9Pasbvm3t2rWG1Wo10tPTjUOHDhmPPfaYERISYjgcDsMwDGPUqFHGn//8Z1f9hx9+aAQEBBjPP/+8cfjwYWPWrFmmuu2+NmO1YMECw2KxGP/85z+NgoIC13Lq1ClvHYLH1Hasfs5Md5nVdqyOHz9utGzZ0khJSTHy8vKMjRs3GmFhYcYzzzzjrUPwqNqO16xZs4yWLVsa//jHP4wvv/zS2Lp1q9GxY0fjN7/5jbcOwWNOnTpl7Nu3z9i3b58hyVi4cKGxb98+47///a9hGIbx5z//2Rg1apSrvuq2+6lTpxqHDx82li5dym33MJclS5YY7dq1MywWi3HLLbcYe/fudW278847jaSkJLf6devWGTfccINhsViMrl27GhkZGR7u2HtqM1bt27c3JF20zJo1y/ONe0Ftf65+ykyByDBqP1Z79uwx+vbta1itVqNDhw7Gs88+a5SXl3u4a++pzXhduHDBmD17ttGxY0cjKCjIiI6ONh5//HHjhx9+8HzjHvbee+9d8m9Q1fgkJSUZd95550Xv6dmzp2GxWIwOHToYq1at8njfVwvfdg8AAEyPOUQAAMD0CEQAAMD0CEQAAMD0CEQAAMD0CEQAAMD0CEQAAMD0CEQAAMD0CEQAAMD0CEQAUAezZ89Wz549Xa8feeQRDR8+3ON9fPXVV/Lz81NOTo7HPxtoTAhEAOrFiRMn9OijjyoqKkoWi0Xt27fXE088oe+//95VM2DAAE2aNOmy+9i1a5cGDhyo0NBQNWvWTNdff72SkpJUVlbmgSP4ZRYvXqz09PQa1RJiAN9DIALwi3355Zfq06eP/vOf/+gf//iHjhw5ohUrVri+ZfzkyZNX3MehQ4c0ZMgQ9enTR7t379aBAwe0ZMkSWSwWVVRUXJW+6zNoBQcHKyQkpN72B8CzCEQAfrHk5GRZLBZt3bpVd955p9q1a6ehQ4dq+/bt+uabb/Tkk09ecR9bt25VRESE0tLS1K1bN3Xs2FFDhgzRq6++qqZNm17x/enp6QoJCdHbb7+t66+/XkFBQUpISNCJEydcNVWXuVauXKmYmBgFBQVJkoqLizV27Fhdc801stlsGjhwoD7//HO3/S9YsEDh4eFq2bKlxowZo/Pnz7tt//kls8rKSqWlpalTp06yWq1q166dnn32WUlSTEyMJOmmm26Sn5+fBgwY4HrfypUrFRsbq6CgIHXp0kXLli1z+5yPP/5YN910k4KCgtSnTx/t27fvimMD4MoIRAB+kZMnT2rLli16/PHHLwouERERGjlypN58801d6XukIyIiVFBQoN27d9e5l7Nnz+rZZ5/V3/72N3344YcqLi7WQw895FZz5MgR/etf/9L69etdl6z+53/+R0VFRXr33XeVnZ2tXr16adCgQa4zW+vWrdPs2bM1b948ffrpp4qMjLwoqPxcamqqFixYoKeeekqHDh3SmjVrFB4eLunHUCNJ27dvV0FBgdavXy9JWr16tWbOnKlnn31Whw8f1rx58/TUU0/pjTfekCSdPn1a99xzj+Li4pSdna3Zs2frT3/6U53HC8BPGADwC+zdu9eQZGzYsOGS2xcuXGhIMgoLC40777zTeOKJJy5ZV15ebjzyyCOGJCMiIsIYPny4sWTJEqOkpKRGfaxatcqQZOzdu9e17vDhw4Yk46OPPjIMwzBmzZplBAYGGkVFRa6a999/37DZbMb58+fd9texY0fjr3/9q2EYhmG3243HH3/cbXvfvn2NG2+80fU6KSnJuO+++wzDMAyn02lYrVbj1VdfvWSvx44dMyQZ+/btu+gz16xZ47Zu7ty5ht1uNwzDMP76178arVu3Ns6dO+favnz58kvuC0DtcIYIQL0wrnAG6Er8/f21atUqff3110pLS9O1116refPmqWvXriooKKjRPgICAnTzzTe7Xnfp0kUhISE6fPiwa1379u11zTXXuF5//vnnOn36tFq3bq0WLVq4lmPHjuno0aOSpMOHD6tv375un2W32y/bx+HDh1VaWqpBgwbVqG9JOnPmjI4ePaoxY8a49fHMM8+49dGjRw/Xpb4r9QGg5gK83QCAhq1Tp07y8/PT4cOHdf/991+0/fDhw2rVqpVbCKnOtddeq1GjRmnUqFGaO3eubrjhBq1YsUJPP/10vfTbvHlzt9enT59WZGSkdu7ceVFtXSdJ12TO08+dPn1akvTqq69eFL78/f3r1AeAmuMMEYBfpHXr1rr77ru1bNkynTt3zm2bw+HQ6tWr9eCDD8rPz6/W+27VqpUiIyN15syZGtWXl5fr008/db3Oy8tTcXGxYmNjL/ueXr16yeFwKCAgQJ06dXJb2rRpI0mKjY3VRx995Pa+vXv3Xnaf119/vZo2barMzMxLbrdYLJLkdvdceHi4oqKi9OWXX17UR9Uk7NjYWO3fv99tQnd1fQCoOc4QAfjFXn75Zd16661KSEjQM888o5iYGOXm5mrq1Km69tprXXdXSdK333570fN3IiMj9fbbbysnJ0f333+/OnbsqPPnz+tvf/ubcnNztWTJkhr1ERgYqIkTJ+qll15SQECAUlJS1K9fP91yyy2XfU98fLzsdruGDx+utLQ03XDDDcrPz1dGRobuv/9+9enTR0888YQeeeQR9enTR7fddptWr16t3NxcdejQ4ZL7DAoK0vTp0zVt2jRZLBbddttt+vbbb5Wbm6sxY8YoLCxMTZs21ebNm9W2bVsFBQUpODhYTz/9tP7whz8oODhYQ4YMUWlpqT799FP98MMPmjJlih5++GE9+eSTGjdunFJTU/XVV1/p+eefr9HYALgCb09iAtA4fPXVV0ZSUpIRHh5uBAYGGtHR0cbEiRON7777zlVz5513GpIuWubOnWt89tlnxu9+9zsjJibGsFqtRuvWrY3+/fsb77zzTo0+f9WqVUZwcLDxr3/9y+jQoYNhtVqN+Ph447///a+rZtasWW4Toas4nU5j4sSJRlRUlKv3kSNHGsePH3fVPPvss0abNm2MFi1aGElJSca0adMuO6naMAyjoqLCeOaZZ4z27dsbgYGBRrt27Yx58+a5tr/66qtGdHS00aRJE+POO+90rV+9erXRs2dPw2KxGK1atTL69+9vrF+/3rU9KyvLuPHGGw2LxWL07NnT+Ne//sWkaqAe+BnGL5wJCQA+ID09XZMmTVJxcbG3WwHQADGHCAAAmB6BCECDMHToULfb0X+6zJs3z9vtAWjguGQGoEH45ptvLrqLrUpoaKhCQ0M93BGAxoRABAAATI9LZgAAwPQIRAAAwPQIRAAAwPQIRAAAwPQIRAAAwPQIRAAAwPQIRAAAwPQIRAAAwPT+P6zwb2cQfC05AAAAAElFTkSuQmCC",
      "text/plain": [
       "<Figure size 640x480 with 1 Axes>"
      ]
     },
     "metadata": {},
     "output_type": "display_data"
    }
   ],
   "source": [
    "sns.histplot(data=df, x=df['OLS_predicted'])"
   ]
  },
  {
   "cell_type": "markdown",
   "metadata": {},
   "source": [
    "Probit"
   ]
  },
  {
   "cell_type": "code",
   "execution_count": 18,
   "metadata": {},
   "outputs": [],
   "source": [
    "from sklearn import preprocessing\n",
    "import statsmodels.api as smf"
   ]
  },
  {
   "cell_type": "code",
   "execution_count": 19,
   "metadata": {},
   "outputs": [
    {
     "name": "stdout",
     "output_type": "stream",
     "text": [
      "Optimization terminated successfully.\n",
      "         Current function value: 0.312780\n",
      "         Iterations 7\n",
      "                              Probit Regression Results                              \n",
      "=====================================================================================\n",
      "Dep. Variable:     cb_person_default_on_file   No. Observations:                22886\n",
      "Model:                                Probit   Df Residuals:                    22874\n",
      "Method:                                  MLE   Df Model:                           11\n",
      "Date:                       Wed, 12 Jun 2024   Pseudo R-squ.:                  0.3354\n",
      "Time:                               01:22:27   Log-Likelihood:                -7158.3\n",
      "converged:                              True   LL-Null:                       -10771.\n",
      "Covariance Type:                   nonrobust   LLR p-value:                     0.000\n",
      "==============================================================================================\n",
      "                                 coef    std err          z      P>|z|      [0.025      0.975]\n",
      "----------------------------------------------------------------------------------------------\n",
      "const                         -3.5322      0.133    -26.607      0.000      -3.792      -3.272\n",
      "person_age                    -0.0017      0.004     -0.440      0.660      -0.009       0.006\n",
      "person_income               1.644e-07   1.75e-07      0.942      0.346   -1.78e-07    5.06e-07\n",
      "person_home_ownership          0.0221      0.014      1.631      0.103      -0.004       0.049\n",
      "person_emp_length             -0.0055      0.003     -1.843      0.065      -0.011       0.000\n",
      "loan_intent                   -0.0073      0.007     -0.990      0.322      -0.022       0.007\n",
      "loan_grade                     0.4818      0.027     17.877      0.000       0.429       0.535\n",
      "loan_amnt                  -1.625e-05   2.58e-06     -6.309      0.000   -2.13e-05   -1.12e-05\n",
      "loan_int_rate                  0.1587      0.011     14.289      0.000       0.137       0.180\n",
      "loan_status                   -0.2470      0.031     -7.909      0.000      -0.308      -0.186\n",
      "loan_percent_income            0.4044      0.160      2.527      0.012       0.091       0.718\n",
      "cb_person_cred_hist_length     0.0027      0.006      0.471      0.637      -0.009       0.014\n",
      "==============================================================================================\n"
     ]
    }
   ],
   "source": [
    "probit_model=smf.Probit(y_train,X_train)\n",
    "result=probit_model.fit()\n",
    "print(result.summary())"
   ]
  },
  {
   "cell_type": "markdown",
   "metadata": {},
   "source": [
    "RandomForestClassifier"
   ]
  },
  {
   "cell_type": "code",
   "execution_count": 20,
   "metadata": {},
   "outputs": [],
   "source": [
    "from sklearn.ensemble import RandomForestClassifier\n",
    "from sklearn.datasets import make_classification"
   ]
  },
  {
   "cell_type": "code",
   "execution_count": 21,
   "metadata": {},
   "outputs": [
    {
     "data": {
      "text/plain": [
       "0.8313630041724618"
      ]
     },
     "execution_count": 21,
     "metadata": {},
     "output_type": "execute_result"
    }
   ],
   "source": [
    "#X_train, y_train = make_classification(n_samples=19221, n_features=12,\n",
    "                           #n_informative=2, n_redundant=0,\n",
    "                           #random_state=0, shuffle=False)\n",
    "                        \n",
    "clf_RFC = RandomForestClassifier(max_depth=4, random_state=2)\n",
    "clf_RFC.fit(X_train, y_train)\n",
    "clf_RFC.score(X_test, y_test)\n"
   ]
  },
  {
   "cell_type": "markdown",
   "metadata": {},
   "source": [
    "GradientBoostingClassifier"
   ]
  },
  {
   "cell_type": "code",
   "execution_count": 22,
   "metadata": {},
   "outputs": [],
   "source": [
    "from sklearn.datasets import make_hastie_10_2\n",
    "from sklearn.ensemble import GradientBoostingClassifier"
   ]
  },
  {
   "cell_type": "code",
   "execution_count": 23,
   "metadata": {},
   "outputs": [
    {
     "data": {
      "text/plain": [
       "0.8256258692628651"
      ]
     },
     "execution_count": 23,
     "metadata": {},
     "output_type": "execute_result"
    }
   ],
   "source": [
    "clf_GBC = GradientBoostingClassifier(n_estimators=100, learning_rate=1.0, max_depth=1, random_state=0)\n",
    "clf_GBC.fit(X_train, y_train)\n",
    "clf_GBC.score(X_test, y_test)"
   ]
  }
 ],
 "metadata": {
  "kernelspec": {
   "display_name": "Python 3",
   "language": "python",
   "name": "python3"
  },
  "language_info": {
   "codemirror_mode": {
    "name": "ipython",
    "version": 3
   },
   "file_extension": ".py",
   "mimetype": "text/x-python",
   "name": "python",
   "nbconvert_exporter": "python",
   "pygments_lexer": "ipython3",
   "version": "3.12.4"
  }
 },
 "nbformat": 4,
 "nbformat_minor": 2
}
